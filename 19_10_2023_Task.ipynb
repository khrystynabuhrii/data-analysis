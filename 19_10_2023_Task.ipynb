{
 "cells": [
  {
   "cell_type": "code",
   "execution_count": 2,
   "metadata": {
    "id": "nULMTvvsj6kQ"
   },
   "outputs": [],
   "source": [
    "import numpy as np\n",
    "import random"
   ]
  },
  {
   "cell_type": "code",
   "execution_count": 25,
   "metadata": {
    "id": "PmX2eSPCmjUS"
   },
   "outputs": [],
   "source": [
    "def sectorSquare(sector_radius, angle):\n",
    "    return np.pi*(int(sector_radius)**2)*angle/360\n",
    "\n",
    "def circleSquare(radius):\n",
    "    return np.pi*(int(radius)**2)\n",
    "\n",
    "def largestSector(radius, sectors, max_iter = 10):\n",
    "    radius = np.sort(radius)[::-1]\n",
    "        \n",
    "# easiest edge cases\n",
    "    # if there is only one circle, then all sectors fit into this circle\n",
    "    if len(radius) == 1:\n",
    "        return best_area\n",
    "\n",
    "    # if there is only one segment, it fits into the largest circle\n",
    "    if sectors == 1:\n",
    "        return circleSquare(radius[0])\n",
    "\n",
    "    #if the # of segments < # of circles - trim not needed radiuses\n",
    "    radius = radius[:sectors]\n",
    "    \n",
    "    best_area = 0\n",
    "    for i in radius:\n",
    "        best_area += circleSquare(i)\n",
    "    \n",
    "    unique_radius, counts = np.unique(radius, return_counts=True)\n",
    "    unique_radius, counts = unique_radius[::-1], counts[::-1]\n",
    "    \n",
    "    # edge cases with # of segments <= # of circles\n",
    "    best_reached_area = (0,0,0) # area, angle, radius\n",
    "    for iteration in range(1, max_iter):\n",
    "        angle = 360/iteration\n",
    "        for radius_i in unique_radius:\n",
    "            iterated_sectors = sectors\n",
    "            area = sectorSquare(radius_i, angle)\n",
    "            \n",
    "            if area*sectors > best_area:\n",
    "                continue\n",
    "                \n",
    "            \n",
    "            for j in range(len(unique_radius)): \n",
    "                radius_j = unique_radius[j]\n",
    "                \n",
    "                # exit the current iteration if even one sector does not fit into the circle\n",
    "                if sectorSquare(radius_i, angle) - circleSquare(radius_j) > 0:\n",
    "                    break\n",
    "                    \n",
    "                elif (radius_i > 2*radius_j*np.cos(angle/2)) and (np.cos(angle/2) > 0):\n",
    "                    break\n",
    "                \n",
    "                # fit one sector into the circle\n",
    "                elif radius_j <= radius_i <= 2*radius_j*np.cos(angle/2):\n",
    "                    iterated_sectors -=1*counts[j]\n",
    "\n",
    "                # fit multiple sectors into the circle\n",
    "                elif radius_i <= radius_j:\n",
    "                    n = radius_j // radius_i\n",
    "                    iterated_sectors -= n*iteration*counts[j]\n",
    "                     \n",
    "                if iterated_sectors <= 0:\n",
    "                    if (best_reached_area[0] < area):\n",
    "                        best_reached_area = (area, angle, radius_i)\n",
    "                        break\n",
    "                    else:\n",
    "                        break\n",
    "                        \n",
    "                    \n",
    "    print(\"Sector area: {:.4f},\\nSector angle: {},\\nSector radius: {}\".format(best_reached_area[0], best_reached_area[1], best_reached_area[2]))\n",
    "    return str(round(best_reached_area[0],4))\n",
    "    "
   ]
  },
  {
   "cell_type": "markdown",
   "metadata": {},
   "source": [
    "# Examples"
   ]
  },
  {
   "cell_type": "code",
   "execution_count": 26,
   "metadata": {},
   "outputs": [
    {
     "name": "stdout",
     "output_type": "stream",
     "text": [
      "Sector area: 30861702455.3485,\n",
      "Sector angle: 360.0,\n",
      "Sector radius: 99114\n"
     ]
    }
   ],
   "source": [
    "#example with a big amount of sectors and circles\n",
    "random.seed(6)\n",
    "randomlist = random.sample(range(1,100000), 10000)\n",
    "\n",
    "result = largestSector(randomlist, 100)"
   ]
  },
  {
   "cell_type": "code",
   "execution_count": 27,
   "metadata": {},
   "outputs": [
    {
     "name": "stdout",
     "output_type": "stream",
     "text": [
      "Sector area: 6.2832,\n",
      "Sector angle: 180.0,\n",
      "Sector radius: 2\n"
     ]
    }
   ],
   "source": [
    "# test example\n",
    "radius = [1,1,1,2,2,3]\n",
    "sectors = 6\n",
    "result = largestSector(radius, sectors)"
   ]
  },
  {
   "cell_type": "code",
   "execution_count": 28,
   "metadata": {},
   "outputs": [
    {
     "name": "stdout",
     "output_type": "stream",
     "text": [
      "Sector area: 28.2743,\n",
      "Sector angle: 360.0,\n",
      "Sector radius: 3\n"
     ]
    }
   ],
   "source": [
    "# example 1\n",
    "radius = [3,3,3,3,3]\n",
    "sectors = 4\n",
    "result = largestSector(radius, sectors)"
   ]
  },
  {
   "cell_type": "code",
   "execution_count": 29,
   "metadata": {},
   "outputs": [
    {
     "name": "stdout",
     "output_type": "stream",
     "text": [
      "Sector area: 12.5664,\n",
      "Sector angle: 360.0,\n",
      "Sector radius: 2\n"
     ]
    }
   ],
   "source": [
    "# example 2\n",
    "radius = [2,2,2,2,3]\n",
    "sectors = 4\n",
    "result = largestSector(radius, sectors)"
   ]
  },
  {
   "cell_type": "code",
   "execution_count": 30,
   "metadata": {},
   "outputs": [
    {
     "name": "stdout",
     "output_type": "stream",
     "text": [
      "Sector area: 4.1888,\n",
      "Sector angle: 120.0,\n",
      "Sector radius: 2\n"
     ]
    }
   ],
   "source": [
    "# example 3\n",
    "radius = [1,1,1,2,2,3]\n",
    "sectors = 8\n",
    "result = largestSector(radius, sectors)"
   ]
  },
  {
   "cell_type": "code",
   "execution_count": null,
   "metadata": {},
   "outputs": [],
   "source": []
  }
 ],
 "metadata": {
  "colab": {
   "provenance": []
  },
  "kernelspec": {
   "display_name": "Python 3 (ipykernel)",
   "language": "python",
   "name": "python3"
  },
  "language_info": {
   "codemirror_mode": {
    "name": "ipython",
    "version": 3
   },
   "file_extension": ".py",
   "mimetype": "text/x-python",
   "name": "python",
   "nbconvert_exporter": "python",
   "pygments_lexer": "ipython3",
   "version": "3.11.1"
  }
 },
 "nbformat": 4,
 "nbformat_minor": 1
}
