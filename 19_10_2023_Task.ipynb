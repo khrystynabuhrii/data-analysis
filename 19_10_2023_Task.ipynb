{
 "cells": [
  {
   "cell_type": "code",
   "execution_count": 2,
   "metadata": {
    "id": "nULMTvvsj6kQ"
   },
   "outputs": [],
   "source": [
    "import numpy as np"
   ]
  },
  {
   "cell_type": "code",
   "execution_count": 6,
   "metadata": {
    "id": "PmX2eSPCmjUS"
   },
   "outputs": [],
   "source": [
    "def sectorSquare(sector_radius, angle):\n",
    "    return np.pi*(sector_radius**2)*angle/360\n",
    "\n",
    "def circleSquare(radius):\n",
    "    return np.pi*(radius**2)\n",
    "\n",
    "def largestSector(radius, sectors):\n",
    "  '''\n",
    "  input\n",
    "      radius: list of n radiuses\n",
    "      sectors: int of # of needed sectors\n",
    "\n",
    "  output\n",
    "      result: max possible area\n",
    "  '''\n",
    "    radius.sort(reverse = True)\n",
    "\n",
    "    best_area = 0\n",
    "    for i in radius:\n",
    "        best_area += circleSquare(i)\n",
    "        \n",
    "# easiest edge cases\n",
    "    # if there is only one circle, then all sectors fit into this circle\n",
    "    if len(radius) == 1:\n",
    "        return best_area\n",
    "\n",
    "    # if there is only one segment, it fits into the largest circle\n",
    "    if sectors == 1:\n",
    "        return circleSquare(radius[0])\n",
    "\n",
    "# if there is more that one segment and more than one circle\n",
    "    #if the # of segments < # of circles - trim not needed radiuses\n",
    "    radius = radius[:sectors]\n",
    "\n",
    "    sector = (radius[0], 360) #start from the biggest possible sector\n",
    "    area = 0\n",
    "    ind = 1\n",
    "    for i in range(0, sectors):\n",
    "        if circleSquare(radius[i]) == sectorSquare(sector[0], sector[1]):\n",
    "            area += sectorSquare(sector)\n",
    "        else:\n",
    "            #option1: half of the biggest circle\n",
    "            area = 0\n",
    "            ind = 2\n",
    "            sector = (radius[0], 360/ind)\n",
    "            for j in range(0, sectors):\n",
    "                if circleSquare(radius[i]) == ind*sectorSquare(sector[0], sector[1]):\n",
    "                      area += sectorSquare(sector)\n",
    "\n",
    "\n",
    "\n",
    "\n",
    "\n",
    "            if area == best_area:\n",
    "                return best_area"
   ]
  },
  {
   "cell_type": "code",
   "execution_count": 4,
   "metadata": {
    "colab": {
     "base_uri": "https://localhost:8080/",
     "height": 331
    },
    "id": "3Ke6mhj6qpRc",
    "outputId": "6ea91897-360b-432f-cda1-8a81e5085ebf"
   },
   "outputs": [
    {
     "ename": "TypeError",
     "evalue": "ignored",
     "output_type": "error",
     "traceback": [
      "\u001b[0;31m---------------------------------------------------------------------------\u001b[0m",
      "\u001b[0;31mTypeError\u001b[0m                                 Traceback (most recent call last)",
      "\u001b[0;32m<ipython-input-4-0595e39fd445>\u001b[0m in \u001b[0;36m<cell line: 5>\u001b[0;34m()\u001b[0m\n\u001b[1;32m      3\u001b[0m \u001b[0mradius\u001b[0m \u001b[0;34m=\u001b[0m \u001b[0;34m[\u001b[0m\u001b[0;36m1\u001b[0m\u001b[0;34m,\u001b[0m\u001b[0;36m1\u001b[0m\u001b[0;34m,\u001b[0m\u001b[0;36m1\u001b[0m\u001b[0;34m,\u001b[0m\u001b[0;36m2\u001b[0m\u001b[0;34m,\u001b[0m\u001b[0;36m2\u001b[0m\u001b[0;34m,\u001b[0m\u001b[0;36m3\u001b[0m\u001b[0;34m]\u001b[0m\u001b[0;34m\u001b[0m\u001b[0;34m\u001b[0m\u001b[0m\n\u001b[1;32m      4\u001b[0m \u001b[0msectors\u001b[0m \u001b[0;34m=\u001b[0m \u001b[0;36m6\u001b[0m\u001b[0;34m\u001b[0m\u001b[0;34m\u001b[0m\u001b[0m\n\u001b[0;32m----> 5\u001b[0;31m \u001b[0mlargestSector\u001b[0m\u001b[0;34m(\u001b[0m\u001b[0mradius\u001b[0m\u001b[0;34m,\u001b[0m \u001b[0msectors\u001b[0m\u001b[0;34m)\u001b[0m\u001b[0;34m\u001b[0m\u001b[0;34m\u001b[0m\u001b[0m\n\u001b[0m",
      "\u001b[0;32m<ipython-input-3-7298da18e289>\u001b[0m in \u001b[0;36mlargestSector\u001b[0;34m(radius, sectors)\u001b[0m\n\u001b[1;32m     38\u001b[0m \u001b[0;34m\u001b[0m\u001b[0m\n\u001b[1;32m     39\u001b[0m \u001b[0;34m\u001b[0m\u001b[0m\n\u001b[0;32m---> 40\u001b[0;31m     \u001b[0;32mif\u001b[0m \u001b[0mcircleSquare\u001b[0m\u001b[0;34m(\u001b[0m\u001b[0mradius\u001b[0m\u001b[0;34m[\u001b[0m\u001b[0mi\u001b[0m\u001b[0;34m]\u001b[0m\u001b[0;34m)\u001b[0m \u001b[0;34m==\u001b[0m \u001b[0msectorSquare\u001b[0m\u001b[0;34m(\u001b[0m\u001b[0msector\u001b[0m\u001b[0;34m)\u001b[0m\u001b[0;34m:\u001b[0m\u001b[0;34m\u001b[0m\u001b[0;34m\u001b[0m\u001b[0m\n\u001b[0m\u001b[1;32m     41\u001b[0m       \u001b[0marea\u001b[0m \u001b[0;34m+=\u001b[0m \u001b[0msectorSquare\u001b[0m\u001b[0;34m(\u001b[0m\u001b[0msector\u001b[0m\u001b[0;34m)\u001b[0m\u001b[0;34m\u001b[0m\u001b[0;34m\u001b[0m\u001b[0m\n\u001b[1;32m     42\u001b[0m \u001b[0;34m\u001b[0m\u001b[0m\n",
      "\u001b[0;31mTypeError\u001b[0m: sectorSquare() missing 1 required positional argument: 'angle'"
     ]
    }
   ],
   "source": [
    "#radius = [1,1,1,2,2,3]\n",
    "#sectors = 6\n",
    "radius = [1,1,1,2,2,3]\n",
    "sectors = 6\n",
    "largestSector(radius, sectors)"
   ]
  },
  {
   "cell_type": "code",
   "execution_count": null,
   "metadata": {
    "id": "G-ec3lJ8nHKf"
   },
   "outputs": [],
   "source": []
  }
 ],
 "metadata": {
  "colab": {
   "provenance": []
  },
  "kernelspec": {
   "display_name": "Python 3 (ipykernel)",
   "language": "python",
   "name": "python3"
  },
  "language_info": {
   "codemirror_mode": {
    "name": "ipython",
    "version": 3
   },
   "file_extension": ".py",
   "mimetype": "text/x-python",
   "name": "python",
   "nbconvert_exporter": "python",
   "pygments_lexer": "ipython3",
   "version": "3.11.1"
  }
 },
 "nbformat": 4,
 "nbformat_minor": 1
}
