{
 "cells": [
  {
   "cell_type": "code",
   "execution_count": 3,
   "metadata": {
    "id": "nULMTvvsj6kQ"
   },
   "outputs": [],
   "source": [
    "import numpy as np"
   ]
  },
  {
   "cell_type": "code",
   "execution_count": 20,
   "metadata": {
    "id": "PmX2eSPCmjUS"
   },
   "outputs": [],
   "source": [
    "def sectorSquare(sector_radius, angle):\n",
    "    return np.pi*(sector_radius**2)*angle/360\n",
    "\n",
    "def circleSquare(radius):\n",
    "    return np.pi*(radius**2)\n",
    "\n",
    "def largestSector(radius, sectors, max_iter = 50):\n",
    "    radius.sort(reverse = True)\n",
    "\n",
    "    best_area = 0\n",
    "    for i in radius:\n",
    "        best_area += circleSquare(i)\n",
    "        \n",
    "# easiest edge cases\n",
    "    # if there is only one circle, then all sectors fit into this circle\n",
    "    if len(radius) == 1:\n",
    "        return best_area\n",
    "\n",
    "    # if there is only one segment, it fits into the largest circle\n",
    "    if sectors == 1:\n",
    "        return circleSquare(radius[0])\n",
    "\n",
    "    #if the # of segments < # of circles - trim not needed radiuses\n",
    "    radius = radius[:sectors]\n",
    "    \n",
    "# edge cases with # of segments <= # of circles\n",
    "    best_reached_area = (0,0,0) # area, angle, radius\n",
    "    for iteration in range(1, max_iter):\n",
    "        angle = 360/iteration\n",
    "        for radius_i in radius:\n",
    "            iterated_sectors = sectors\n",
    "            area = sectorSquare(radius_i, angle)\n",
    "            \n",
    "            for radius_j in radius:\n",
    "                # try to fill the whole circle with sectors\n",
    "                if radius_i <= radius_j:\n",
    "                    iterated_sectors -= iteration\n",
    "                    if iterated_sectors <= 0:\n",
    "                        if (best_reached_area[0] < area):\n",
    "                            best_reached_area = (area, angle, radius_i)\n",
    "                        else:\n",
    "                            break\n",
    "                    \n",
    "                else: #IN PROGRESS\n",
    "                    # exit the current iteration if even one sector does not fit into the circle\n",
    "                    if sectorSquare(radius_i, angle) - circleSquare(radius_j) > 0:\n",
    "                        break\n",
    "                        \n",
    "                    elif radius_i > 2*radius_j:\n",
    "                        break\n",
    "                        \n",
    "                    elif (angle >= 90) and (radius_i > np.sqrt(2)*radius_j):\n",
    "                        break\n",
    "                    \n",
    "                    # add one sector into each following circle if it fits\n",
    "                    elif radius_i < np.sqrt(2)*radius_j: \n",
    "                        iterated_sectors -= 1\n",
    "                        if iterated_sectors <= 0:\n",
    "                            if best_reached_area[0] < area:\n",
    "                                best_reached_area = (area, angle, radius_j)\n",
    "                            else:\n",
    "                                break\n",
    "    print(\"Sector area: {:.4f},\\nSector angle: {},\\nSector radius: {}\".format(best_reached_area[0], best_reached_area[1], best_reached_area[2]))\n",
    "    return str(round(best_reached_area[0],4))\n",
    "    "
   ]
  },
  {
   "cell_type": "markdown",
   "metadata": {},
   "source": [
    "# Examples"
   ]
  },
  {
   "cell_type": "code",
   "execution_count": 33,
   "metadata": {},
   "outputs": [
    {
     "name": "stdout",
     "output_type": "stream",
     "text": [
      "Sector area: 6.2832,\n",
      "Sector angle: 180.0,\n",
      "Sector radius: 2\n"
     ]
    }
   ],
   "source": [
    "# test example\n",
    "radius = [1,1,1,2,2,3]\n",
    "sectors = 6\n",
    "result = largestSector(radius, sectors)"
   ]
  },
  {
   "cell_type": "code",
   "execution_count": 34,
   "metadata": {},
   "outputs": [
    {
     "name": "stdout",
     "output_type": "stream",
     "text": [
      "Sector area: 28.2743,\n",
      "Sector angle: 360.0,\n",
      "Sector radius: 3\n"
     ]
    }
   ],
   "source": [
    "# example 1\n",
    "radius = [3,3,3,3,3]\n",
    "sectors = 4\n",
    "result = largestSector(radius, sectors)"
   ]
  },
  {
   "cell_type": "code",
   "execution_count": 35,
   "metadata": {},
   "outputs": [
    {
     "name": "stdout",
     "output_type": "stream",
     "text": [
      "Sector area: 12.5664,\n",
      "Sector angle: 360.0,\n",
      "Sector radius: 2\n"
     ]
    }
   ],
   "source": [
    "# example 2\n",
    "radius = [2,2,2,2,3]\n",
    "sectors = 4\n",
    "result = largestSector(radius, sectors)"
   ]
  },
  {
   "cell_type": "code",
   "execution_count": 36,
   "metadata": {},
   "outputs": [
    {
     "name": "stdout",
     "output_type": "stream",
     "text": [
      "Sector area: 4.1888,\n",
      "Sector angle: 120.0,\n",
      "Sector radius: 2\n"
     ]
    }
   ],
   "source": [
    "# example 3\n",
    "radius = [1,1,1,2,2,3]\n",
    "sectors = 8\n",
    "result = largestSector(radius, sectors)"
   ]
  },
  {
   "cell_type": "code",
   "execution_count": null,
   "metadata": {},
   "outputs": [],
   "source": []
  }
 ],
 "metadata": {
  "colab": {
   "provenance": []
  },
  "kernelspec": {
   "display_name": "Python 3 (ipykernel)",
   "language": "python",
   "name": "python3"
  },
  "language_info": {
   "codemirror_mode": {
    "name": "ipython",
    "version": 3
   },
   "file_extension": ".py",
   "mimetype": "text/x-python",
   "name": "python",
   "nbconvert_exporter": "python",
   "pygments_lexer": "ipython3",
   "version": "3.11.1"
  }
 },
 "nbformat": 4,
 "nbformat_minor": 1
}
