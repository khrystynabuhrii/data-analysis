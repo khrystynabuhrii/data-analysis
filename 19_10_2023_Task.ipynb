{
 "cells": [
  {
   "cell_type": "code",
   "execution_count": 1,
   "metadata": {
    "id": "nULMTvvsj6kQ"
   },
   "outputs": [],
   "source": [
    "import numpy as np"
   ]
  },
  {
   "cell_type": "code",
   "execution_count": 7,
   "metadata": {
    "id": "PmX2eSPCmjUS"
   },
   "outputs": [],
   "source": [
    "def sectorSquare(sector_radius, angle):\n",
    "    return np.pi*(sector_radius**2)*angle/360\n",
    "\n",
    "def circleSquare(radius):\n",
    "    return np.pi*(radius**2)\n",
    "\n",
    "def largestSector(radius, sectors, max_iter = 5):\n",
    "    radius.sort(reverse = True)\n",
    "\n",
    "    best_area = 0\n",
    "    for i in radius:\n",
    "        best_area += circleSquare(i)\n",
    "        \n",
    "# easiest edge cases\n",
    "    # if there is only one circle, then all sectors fit into this circle\n",
    "    if len(radius) == 1:\n",
    "        return best_area\n",
    "\n",
    "    # if there is only one segment, it fits into the largest circle\n",
    "    if sectors == 1:\n",
    "        return circleSquare(radius[0])\n",
    "\n",
    "    #if the # of segments < # of circles - trim not needed radiuses\n",
    "    radius = radius[:sectors]\n",
    "    \n",
    "# edge cases with # of segments <= # of circles\n",
    "    best_reached_area = (0,0,0) # area, angle, radius\n",
    "    for iteration in range(1, max_iter):\n",
    "        angle = 360/iteration\n",
    "        for i in radius:\n",
    "            iterated_sectors = sectors\n",
    "            area = 0\n",
    "            for j in radius:\n",
    "                # try to fill the whole circle with sectors\n",
    "                if (abs(circleSquare(j) - iteration*sectorSquare(i, angle)) < 1e-9) or circleSquare(j) > iteration*sectorSquare(i, angle):\n",
    "                    iterated_sectors -=iteration\n",
    "                    area += iteration*sectorSquare(i, angle)\n",
    "                    if iterated_sectors <= 0:\n",
    "                        if best_reached_area[0] < area:\n",
    "                            best_reached_area = (area, angle, j)\n",
    "                    \n",
    "                else: #IN PROGRESS\n",
    "                    # exit the current iteration if sector does not fit into the circle\n",
    "                    if sectorSquare(i, angle) - circleSquare(j) > 0:\n",
    "                        break\n",
    "                        \n",
    "                    elif i > 2*j:\n",
    "                        break\n",
    "                        \n",
    "                    elif (angle > 90) and (i > j):\n",
    "                        break\n",
    "                    \n",
    "                    # try to fit the biggest amount of sectors into the circle\n",
    "                    else:\n",
    "                        # option 1: add one sector into each following circle\n",
    "                        iterated_sectors -= 1\n",
    "                        area +=sectorSquare(i, angle)\n",
    "                        if iterated_sectors <= 0:\n",
    "                            if best_reached_area[0] < area:\n",
    "                                best_reached_area = (area, angle, j)\n",
    "                            else:\n",
    "                                break\n",
    "                                \n",
    "                        # option 2: fit more than one sector (in progress)\n",
    "                        \n",
    "                \n",
    "                            \n",
    "                            \n",
    "                                        \n",
    "    return best_reached_area\n",
    "    "
   ]
  },
  {
   "cell_type": "code",
   "execution_count": 8,
   "metadata": {},
   "outputs": [
    {
     "name": "stdout",
     "output_type": "stream",
     "text": [
      "Expected result: 113.09733552923255\n",
      "Received result: (113.09733552923255, 120.0, 3)\n"
     ]
    }
   ],
   "source": [
    "# work example 1\n",
    "radius = [3,3,3,3,3]\n",
    "sectors = 4\n",
    "print(\"Expected result:\", np.pi*9*4)\n",
    "print(\"Received result:\", largestSector(radius, sectors))"
   ]
  },
  {
   "cell_type": "code",
   "execution_count": 9,
   "metadata": {},
   "outputs": [
    {
     "name": "stdout",
     "output_type": "stream",
     "text": [
      "Expected result: 50.26548245743669\n",
      "Received result: (50.26548245743669, 360.0, 2)\n"
     ]
    }
   ],
   "source": [
    "# work example 2\n",
    "radius = [2,2,2,2,3]\n",
    "sectors = 4\n",
    "print(\"Expected result:\", np.pi*4*4)\n",
    "print(\"Received result:\", largestSector(radius, sectors))"
   ]
  },
  {
   "cell_type": "code",
   "execution_count": 10,
   "metadata": {
    "colab": {
     "base_uri": "https://localhost:8080/",
     "height": 331
    },
    "id": "3Ke6mhj6qpRc",
    "outputId": "6ea91897-360b-432f-cda1-8a81e5085ebf"
   },
   "outputs": [
    {
     "name": "stdout",
     "output_type": "stream",
     "text": [
      "Expected result: 42.411500823462205\n",
      "Received result: (42.4115008234622, 90.0, 2)\n"
     ]
    }
   ],
   "source": [
    "# test example (IN PROGRESS)\n",
    "radius = [1,1,1,2,2,3]\n",
    "sectors = 6\n",
    "print(\"Expected result:\", np.pi*(27/2))\n",
    "print(\"Received result:\", largestSector(radius, sectors))"
   ]
  },
  {
   "cell_type": "code",
   "execution_count": null,
   "metadata": {},
   "outputs": [],
   "source": []
  }
 ],
 "metadata": {
  "colab": {
   "provenance": []
  },
  "kernelspec": {
   "display_name": "Python 3 (ipykernel)",
   "language": "python",
   "name": "python3"
  },
  "language_info": {
   "codemirror_mode": {
    "name": "ipython",
    "version": 3
   },
   "file_extension": ".py",
   "mimetype": "text/x-python",
   "name": "python",
   "nbconvert_exporter": "python",
   "pygments_lexer": "ipython3",
   "version": "3.11.1"
  }
 },
 "nbformat": 4,
 "nbformat_minor": 1
}
