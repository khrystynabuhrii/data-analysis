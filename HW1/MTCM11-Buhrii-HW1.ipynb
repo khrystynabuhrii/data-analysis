{
 "cells": [
  {
   "cell_type": "markdown",
   "id": "a9d74370",
   "metadata": {},
   "source": [
    "# Mean-Variance Optimization"
   ]
  },
  {
   "cell_type": "code",
   "execution_count": 1,
   "id": "740de076",
   "metadata": {},
   "outputs": [],
   "source": [
    "import pandas as pd\n",
    "import numpy as np\n",
    "import matplotlib.pyplot as plt\n",
    "import yfinance as yf"
   ]
  },
  {
   "cell_type": "code",
   "execution_count": 2,
   "id": "0ccae2fb",
   "metadata": {},
   "outputs": [
    {
     "name": "stdout",
     "output_type": "stream",
     "text": [
      "[*********************100%%**********************]  12 of 12 completed\n"
     ]
    }
   ],
   "source": [
    "#Завантажуємо датасет\n",
    "ticks = [\"SPY\", \"EFA\", \"EEM\", \"PSP\", \"QAI\", \"HYG\", \"DBC\", \"IYR\", \"IEF\", \"BWX\", \"TIP\", \"SHV\"]\n",
    "start_date = \"2014-01-01\"\n",
    "end_date = \"2023-01-01\"\n",
    "\n",
    "df = yf.download(ticks, start_date, end_date)[\"Adj Close\"]"
   ]
  },
  {
   "cell_type": "code",
   "execution_count": 3,
   "id": "c1b37145",
   "metadata": {},
   "outputs": [],
   "source": [
    "#Вибираємо дані за останній день місяця\n",
    "price = df.resample(\"M\").last()"
   ]
  },
  {
   "cell_type": "code",
   "execution_count": 4,
   "id": "edbb2af2",
   "metadata": {},
   "outputs": [
    {
     "data": {
      "text/html": [
       "<div>\n",
       "<style scoped>\n",
       "    .dataframe tbody tr th:only-of-type {\n",
       "        vertical-align: middle;\n",
       "    }\n",
       "\n",
       "    .dataframe tbody tr th {\n",
       "        vertical-align: top;\n",
       "    }\n",
       "\n",
       "    .dataframe thead th {\n",
       "        text-align: right;\n",
       "    }\n",
       "</style>\n",
       "<table border=\"1\" class=\"dataframe\">\n",
       "  <thead>\n",
       "    <tr style=\"text-align: right;\">\n",
       "      <th></th>\n",
       "      <th>BWX</th>\n",
       "      <th>DBC</th>\n",
       "      <th>EEM</th>\n",
       "      <th>EFA</th>\n",
       "      <th>HYG</th>\n",
       "      <th>IEF</th>\n",
       "      <th>IYR</th>\n",
       "      <th>PSP</th>\n",
       "      <th>QAI</th>\n",
       "      <th>SPY</th>\n",
       "      <th>TIP</th>\n",
       "    </tr>\n",
       "    <tr>\n",
       "      <th>Date</th>\n",
       "      <th></th>\n",
       "      <th></th>\n",
       "      <th></th>\n",
       "      <th></th>\n",
       "      <th></th>\n",
       "      <th></th>\n",
       "      <th></th>\n",
       "      <th></th>\n",
       "      <th></th>\n",
       "      <th></th>\n",
       "      <th></th>\n",
       "    </tr>\n",
       "  </thead>\n",
       "  <tbody>\n",
       "    <tr>\n",
       "      <th>2014-02-28</th>\n",
       "      <td>0.022152</td>\n",
       "      <td>0.050060</td>\n",
       "      <td>0.033597</td>\n",
       "      <td>0.061130</td>\n",
       "      <td>0.022903</td>\n",
       "      <td>0.003393</td>\n",
       "      <td>0.047328</td>\n",
       "      <td>0.066141</td>\n",
       "      <td>0.020688</td>\n",
       "      <td>0.045334</td>\n",
       "      <td>0.004186</td>\n",
       "    </tr>\n",
       "    <tr>\n",
       "      <th>2014-03-31</th>\n",
       "      <td>0.003018</td>\n",
       "      <td>-0.000473</td>\n",
       "      <td>0.038663</td>\n",
       "      <td>-0.004683</td>\n",
       "      <td>-0.000906</td>\n",
       "      <td>-0.005702</td>\n",
       "      <td>0.001361</td>\n",
       "      <td>-0.016349</td>\n",
       "      <td>-0.004520</td>\n",
       "      <td>0.008205</td>\n",
       "      <td>-0.005415</td>\n",
       "    </tr>\n",
       "    <tr>\n",
       "      <th>2014-04-30</th>\n",
       "      <td>0.010088</td>\n",
       "      <td>0.011103</td>\n",
       "      <td>0.007803</td>\n",
       "      <td>0.016667</td>\n",
       "      <td>0.004205</td>\n",
       "      <td>0.007583</td>\n",
       "      <td>0.030294</td>\n",
       "      <td>-0.023869</td>\n",
       "      <td>0.002396</td>\n",
       "      <td>0.006952</td>\n",
       "      <td>0.013202</td>\n",
       "    </tr>\n",
       "    <tr>\n",
       "      <th>2014-05-31</th>\n",
       "      <td>0.001437</td>\n",
       "      <td>-0.014388</td>\n",
       "      <td>0.029518</td>\n",
       "      <td>0.015954</td>\n",
       "      <td>0.012063</td>\n",
       "      <td>0.018255</td>\n",
       "      <td>0.027969</td>\n",
       "      <td>0.010961</td>\n",
       "      <td>0.014339</td>\n",
       "      <td>0.023207</td>\n",
       "      <td>0.020014</td>\n",
       "    </tr>\n",
       "    <tr>\n",
       "      <th>2014-06-30</th>\n",
       "      <td>0.015972</td>\n",
       "      <td>0.021130</td>\n",
       "      <td>0.024018</td>\n",
       "      <td>0.009207</td>\n",
       "      <td>0.006120</td>\n",
       "      <td>-0.002167</td>\n",
       "      <td>0.010126</td>\n",
       "      <td>0.028657</td>\n",
       "      <td>0.009425</td>\n",
       "      <td>0.020645</td>\n",
       "      <td>0.003698</td>\n",
       "    </tr>\n",
       "  </tbody>\n",
       "</table>\n",
       "</div>"
      ],
      "text/plain": [
       "                 BWX       DBC       EEM       EFA       HYG       IEF  \\\n",
       "Date                                                                     \n",
       "2014-02-28  0.022152  0.050060  0.033597  0.061130  0.022903  0.003393   \n",
       "2014-03-31  0.003018 -0.000473  0.038663 -0.004683 -0.000906 -0.005702   \n",
       "2014-04-30  0.010088  0.011103  0.007803  0.016667  0.004205  0.007583   \n",
       "2014-05-31  0.001437 -0.014388  0.029518  0.015954  0.012063  0.018255   \n",
       "2014-06-30  0.015972  0.021130  0.024018  0.009207  0.006120 -0.002167   \n",
       "\n",
       "                 IYR       PSP       QAI       SPY       TIP  \n",
       "Date                                                          \n",
       "2014-02-28  0.047328  0.066141  0.020688  0.045334  0.004186  \n",
       "2014-03-31  0.001361 -0.016349 -0.004520  0.008205 -0.005415  \n",
       "2014-04-30  0.030294 -0.023869  0.002396  0.006952  0.013202  \n",
       "2014-05-31  0.027969  0.010961  0.014339  0.023207  0.020014  \n",
       "2014-06-30  0.010126  0.028657  0.009425  0.020645  0.003698  "
      ]
     },
     "execution_count": 4,
     "metadata": {},
     "output_type": "execute_result"
    }
   ],
   "source": [
    "#прибуток\n",
    "ret = price.pct_change().dropna()\n",
    "\n",
    "#надлишковий прибуток\n",
    "ex_ret = ret.subtract(ret[\"SHV\"], axis = 0)\n",
    "ex_ret = ex_ret.drop(columns = [\"SHV\"])\n",
    "ex_ret.head()"
   ]
  },
  {
   "cell_type": "markdown",
   "id": "a9781ac3",
   "metadata": {},
   "source": [
    "## 1. Обчислити та відобразити середнє значення та волатильність надлишкової прибутковості кожного активу. (Нагадаймо, ми використовуємо волатильність для позначення стандартного відхилення.)"
   ]
  },
  {
   "cell_type": "code",
   "execution_count": 5,
   "id": "91d92630",
   "metadata": {},
   "outputs": [
    {
     "data": {
      "text/plain": [
       "BWX   -0.002049\n",
       "DBC    0.000972\n",
       "EEM    0.002322\n",
       "EFA    0.003052\n",
       "HYG    0.001713\n",
       "IEF    0.000368\n",
       "IYR    0.005792\n",
       "PSP    0.000489\n",
       "QAI    0.000302\n",
       "SPY    0.009052\n",
       "TIP    0.001010\n",
       "dtype: float64"
      ]
     },
     "execution_count": 5,
     "metadata": {},
     "output_type": "execute_result"
    }
   ],
   "source": [
    "#Середня прибутковість за місяць\n",
    "ex_ret_mean = ex_ret.mean()\n",
    "ex_ret_mean"
   ]
  },
  {
   "cell_type": "code",
   "execution_count": 6,
   "id": "4a5bc099",
   "metadata": {},
   "outputs": [
    {
     "data": {
      "text/plain": [
       "BWX    0.022992\n",
       "DBC    0.052209\n",
       "EEM    0.049687\n",
       "EFA    0.043485\n",
       "HYG    0.022532\n",
       "IEF    0.017104\n",
       "IYR    0.048563\n",
       "PSP    0.063243\n",
       "QAI    0.015026\n",
       "SPY    0.044089\n",
       "TIP    0.014446\n",
       "dtype: float64"
      ]
     },
     "execution_count": 6,
     "metadata": {},
     "output_type": "execute_result"
    }
   ],
   "source": [
    "#Волатильність\n",
    "ex_ret_std = ex_ret.std()\n",
    "ex_ret_std"
   ]
  },
  {
   "cell_type": "markdown",
   "id": "592da6b5",
   "metadata": {},
   "source": [
    "## 2. Які активи мають найкращі та найгірші коефіцієнти Шарпа?"
   ]
  },
  {
   "cell_type": "markdown",
   "id": "c870bfd8",
   "metadata": {},
   "source": [
    "$$SR(w^p) = \\frac{\\mu^p - r^f}{\\sigma^p}$$"
   ]
  },
  {
   "cell_type": "code",
   "execution_count": 7,
   "id": "de06294a",
   "metadata": {},
   "outputs": [
    {
     "data": {
      "text/html": [
       "<div>\n",
       "<style scoped>\n",
       "    .dataframe tbody tr th:only-of-type {\n",
       "        vertical-align: middle;\n",
       "    }\n",
       "\n",
       "    .dataframe tbody tr th {\n",
       "        vertical-align: top;\n",
       "    }\n",
       "\n",
       "    .dataframe thead th {\n",
       "        text-align: right;\n",
       "    }\n",
       "</style>\n",
       "<table border=\"1\" class=\"dataframe\">\n",
       "  <thead>\n",
       "    <tr style=\"text-align: right;\">\n",
       "      <th></th>\n",
       "      <th>Ticks</th>\n",
       "      <th>SR</th>\n",
       "    </tr>\n",
       "  </thead>\n",
       "  <tbody>\n",
       "    <tr>\n",
       "      <th>0</th>\n",
       "      <td>SPY</td>\n",
       "      <td>0.205986</td>\n",
       "    </tr>\n",
       "    <tr>\n",
       "      <th>1</th>\n",
       "      <td>IYR</td>\n",
       "      <td>0.119530</td>\n",
       "    </tr>\n",
       "    <tr>\n",
       "      <th>2</th>\n",
       "      <td>HYG</td>\n",
       "      <td>0.076200</td>\n",
       "    </tr>\n",
       "    <tr>\n",
       "      <th>3</th>\n",
       "      <td>EFA</td>\n",
       "      <td>0.070271</td>\n",
       "    </tr>\n",
       "    <tr>\n",
       "      <th>4</th>\n",
       "      <td>TIP</td>\n",
       "      <td>0.069459</td>\n",
       "    </tr>\n",
       "    <tr>\n",
       "      <th>5</th>\n",
       "      <td>EEM</td>\n",
       "      <td>0.046742</td>\n",
       "    </tr>\n",
       "    <tr>\n",
       "      <th>6</th>\n",
       "      <td>IEF</td>\n",
       "      <td>0.021129</td>\n",
       "    </tr>\n",
       "    <tr>\n",
       "      <th>7</th>\n",
       "      <td>QAI</td>\n",
       "      <td>0.020088</td>\n",
       "    </tr>\n",
       "    <tr>\n",
       "      <th>8</th>\n",
       "      <td>DBC</td>\n",
       "      <td>0.018677</td>\n",
       "    </tr>\n",
       "    <tr>\n",
       "      <th>9</th>\n",
       "      <td>PSP</td>\n",
       "      <td>0.007751</td>\n",
       "    </tr>\n",
       "    <tr>\n",
       "      <th>10</th>\n",
       "      <td>BWX</td>\n",
       "      <td>-0.088210</td>\n",
       "    </tr>\n",
       "  </tbody>\n",
       "</table>\n",
       "</div>"
      ],
      "text/plain": [
       "   Ticks        SR\n",
       "0    SPY  0.205986\n",
       "1    IYR  0.119530\n",
       "2    HYG  0.076200\n",
       "3    EFA  0.070271\n",
       "4    TIP  0.069459\n",
       "5    EEM  0.046742\n",
       "6    IEF  0.021129\n",
       "7    QAI  0.020088\n",
       "8    DBC  0.018677\n",
       "9    PSP  0.007751\n",
       "10   BWX -0.088210"
      ]
     },
     "execution_count": 7,
     "metadata": {},
     "output_type": "execute_result"
    }
   ],
   "source": [
    "mu_p = ret.drop(columns = [\"SHV\"]).mean()\n",
    "r_f = ret[\"SHV\"].mean()\n",
    "sigma_p = ret.drop(columns = [\"SHV\"]).std()\n",
    "\n",
    "SR = (mu_p - r_f).div(sigma_p)\n",
    "SR = SR.sort_values(ascending = False).to_frame().reset_index()\n",
    "SR.columns = [\"Ticks\", \"SR\"]\n",
    "SR"
   ]
  },
  {
   "cell_type": "code",
   "execution_count": 8,
   "id": "223d2112",
   "metadata": {},
   "outputs": [
    {
     "data": {
      "text/plain": [
       "Ticks         SPY\n",
       "SR       0.205986\n",
       "Name: 0, dtype: object"
      ]
     },
     "execution_count": 8,
     "metadata": {},
     "output_type": "execute_result"
    }
   ],
   "source": [
    "# найкращий коефіцієнт Шарпа\n",
    "SR.iloc[0,:]"
   ]
  },
  {
   "cell_type": "code",
   "execution_count": 9,
   "id": "c6b42f85",
   "metadata": {},
   "outputs": [
    {
     "data": {
      "text/plain": [
       "Ticks        BWX\n",
       "SR      -0.08821\n",
       "Name: 10, dtype: object"
      ]
     },
     "execution_count": 9,
     "metadata": {},
     "output_type": "execute_result"
    }
   ],
   "source": [
    "# нйгірший коефіціяєнт Шарпа\n",
    "SR.iloc[-1,:]"
   ]
  },
  {
   "cell_type": "markdown",
   "id": "967bd54c",
   "metadata": {},
   "source": [
    "## 3. Розрахувати кореляційну матрицю доходів. Яка пара має найбільшу кореляцію? Яка найменшу?"
   ]
  },
  {
   "cell_type": "code",
   "execution_count": 10,
   "id": "0b46a692",
   "metadata": {},
   "outputs": [
    {
     "data": {
      "text/html": [
       "<div>\n",
       "<style scoped>\n",
       "    .dataframe tbody tr th:only-of-type {\n",
       "        vertical-align: middle;\n",
       "    }\n",
       "\n",
       "    .dataframe tbody tr th {\n",
       "        vertical-align: top;\n",
       "    }\n",
       "\n",
       "    .dataframe thead th {\n",
       "        text-align: right;\n",
       "    }\n",
       "</style>\n",
       "<table border=\"1\" class=\"dataframe\">\n",
       "  <thead>\n",
       "    <tr style=\"text-align: right;\">\n",
       "      <th></th>\n",
       "      <th>BWX</th>\n",
       "      <th>DBC</th>\n",
       "      <th>EEM</th>\n",
       "      <th>EFA</th>\n",
       "      <th>HYG</th>\n",
       "      <th>IEF</th>\n",
       "      <th>IYR</th>\n",
       "      <th>PSP</th>\n",
       "      <th>QAI</th>\n",
       "      <th>SPY</th>\n",
       "      <th>TIP</th>\n",
       "    </tr>\n",
       "  </thead>\n",
       "  <tbody>\n",
       "    <tr>\n",
       "      <th>BWX</th>\n",
       "      <td>1.000000</td>\n",
       "      <td>0.202022</td>\n",
       "      <td>0.645758</td>\n",
       "      <td>0.552970</td>\n",
       "      <td>0.576703</td>\n",
       "      <td>0.548647</td>\n",
       "      <td>0.449717</td>\n",
       "      <td>0.515559</td>\n",
       "      <td>0.636100</td>\n",
       "      <td>0.426230</td>\n",
       "      <td>0.669450</td>\n",
       "    </tr>\n",
       "    <tr>\n",
       "      <th>DBC</th>\n",
       "      <td>0.202022</td>\n",
       "      <td>1.000000</td>\n",
       "      <td>0.493212</td>\n",
       "      <td>0.535021</td>\n",
       "      <td>0.488763</td>\n",
       "      <td>-0.352472</td>\n",
       "      <td>0.296075</td>\n",
       "      <td>0.472511</td>\n",
       "      <td>0.505782</td>\n",
       "      <td>0.443971</td>\n",
       "      <td>0.128270</td>\n",
       "    </tr>\n",
       "    <tr>\n",
       "      <th>EEM</th>\n",
       "      <td>0.645758</td>\n",
       "      <td>0.493212</td>\n",
       "      <td>1.000000</td>\n",
       "      <td>0.806688</td>\n",
       "      <td>0.670102</td>\n",
       "      <td>0.035693</td>\n",
       "      <td>0.537631</td>\n",
       "      <td>0.719246</td>\n",
       "      <td>0.817292</td>\n",
       "      <td>0.675299</td>\n",
       "      <td>0.418331</td>\n",
       "    </tr>\n",
       "    <tr>\n",
       "      <th>EFA</th>\n",
       "      <td>0.552970</td>\n",
       "      <td>0.535021</td>\n",
       "      <td>0.806688</td>\n",
       "      <td>1.000000</td>\n",
       "      <td>0.789522</td>\n",
       "      <td>0.004571</td>\n",
       "      <td>0.676977</td>\n",
       "      <td>0.909642</td>\n",
       "      <td>0.893732</td>\n",
       "      <td>0.869679</td>\n",
       "      <td>0.452418</td>\n",
       "    </tr>\n",
       "    <tr>\n",
       "      <th>HYG</th>\n",
       "      <td>0.576703</td>\n",
       "      <td>0.488763</td>\n",
       "      <td>0.670102</td>\n",
       "      <td>0.789522</td>\n",
       "      <td>1.000000</td>\n",
       "      <td>0.146463</td>\n",
       "      <td>0.694213</td>\n",
       "      <td>0.829210</td>\n",
       "      <td>0.837562</td>\n",
       "      <td>0.808391</td>\n",
       "      <td>0.600167</td>\n",
       "    </tr>\n",
       "    <tr>\n",
       "      <th>IEF</th>\n",
       "      <td>0.548647</td>\n",
       "      <td>-0.352472</td>\n",
       "      <td>0.035693</td>\n",
       "      <td>0.004571</td>\n",
       "      <td>0.146463</td>\n",
       "      <td>1.000000</td>\n",
       "      <td>0.244239</td>\n",
       "      <td>0.020811</td>\n",
       "      <td>0.111515</td>\n",
       "      <td>-0.018231</td>\n",
       "      <td>0.706036</td>\n",
       "    </tr>\n",
       "    <tr>\n",
       "      <th>IYR</th>\n",
       "      <td>0.449717</td>\n",
       "      <td>0.296075</td>\n",
       "      <td>0.537631</td>\n",
       "      <td>0.676977</td>\n",
       "      <td>0.694213</td>\n",
       "      <td>0.244239</td>\n",
       "      <td>1.000000</td>\n",
       "      <td>0.729068</td>\n",
       "      <td>0.709725</td>\n",
       "      <td>0.769053</td>\n",
       "      <td>0.629646</td>\n",
       "    </tr>\n",
       "    <tr>\n",
       "      <th>PSP</th>\n",
       "      <td>0.515559</td>\n",
       "      <td>0.472511</td>\n",
       "      <td>0.719246</td>\n",
       "      <td>0.909642</td>\n",
       "      <td>0.829210</td>\n",
       "      <td>0.020811</td>\n",
       "      <td>0.729068</td>\n",
       "      <td>1.000000</td>\n",
       "      <td>0.889855</td>\n",
       "      <td>0.909873</td>\n",
       "      <td>0.523832</td>\n",
       "    </tr>\n",
       "    <tr>\n",
       "      <th>QAI</th>\n",
       "      <td>0.636100</td>\n",
       "      <td>0.505782</td>\n",
       "      <td>0.817292</td>\n",
       "      <td>0.893732</td>\n",
       "      <td>0.837562</td>\n",
       "      <td>0.111515</td>\n",
       "      <td>0.709725</td>\n",
       "      <td>0.889855</td>\n",
       "      <td>1.000000</td>\n",
       "      <td>0.878317</td>\n",
       "      <td>0.544926</td>\n",
       "    </tr>\n",
       "    <tr>\n",
       "      <th>SPY</th>\n",
       "      <td>0.426230</td>\n",
       "      <td>0.443971</td>\n",
       "      <td>0.675299</td>\n",
       "      <td>0.869679</td>\n",
       "      <td>0.808391</td>\n",
       "      <td>-0.018231</td>\n",
       "      <td>0.769053</td>\n",
       "      <td>0.909873</td>\n",
       "      <td>0.878317</td>\n",
       "      <td>1.000000</td>\n",
       "      <td>0.480188</td>\n",
       "    </tr>\n",
       "    <tr>\n",
       "      <th>TIP</th>\n",
       "      <td>0.669450</td>\n",
       "      <td>0.128270</td>\n",
       "      <td>0.418331</td>\n",
       "      <td>0.452418</td>\n",
       "      <td>0.600167</td>\n",
       "      <td>0.706036</td>\n",
       "      <td>0.629646</td>\n",
       "      <td>0.523832</td>\n",
       "      <td>0.544926</td>\n",
       "      <td>0.480188</td>\n",
       "      <td>1.000000</td>\n",
       "    </tr>\n",
       "  </tbody>\n",
       "</table>\n",
       "</div>"
      ],
      "text/plain": [
       "          BWX       DBC       EEM       EFA       HYG       IEF       IYR  \\\n",
       "BWX  1.000000  0.202022  0.645758  0.552970  0.576703  0.548647  0.449717   \n",
       "DBC  0.202022  1.000000  0.493212  0.535021  0.488763 -0.352472  0.296075   \n",
       "EEM  0.645758  0.493212  1.000000  0.806688  0.670102  0.035693  0.537631   \n",
       "EFA  0.552970  0.535021  0.806688  1.000000  0.789522  0.004571  0.676977   \n",
       "HYG  0.576703  0.488763  0.670102  0.789522  1.000000  0.146463  0.694213   \n",
       "IEF  0.548647 -0.352472  0.035693  0.004571  0.146463  1.000000  0.244239   \n",
       "IYR  0.449717  0.296075  0.537631  0.676977  0.694213  0.244239  1.000000   \n",
       "PSP  0.515559  0.472511  0.719246  0.909642  0.829210  0.020811  0.729068   \n",
       "QAI  0.636100  0.505782  0.817292  0.893732  0.837562  0.111515  0.709725   \n",
       "SPY  0.426230  0.443971  0.675299  0.869679  0.808391 -0.018231  0.769053   \n",
       "TIP  0.669450  0.128270  0.418331  0.452418  0.600167  0.706036  0.629646   \n",
       "\n",
       "          PSP       QAI       SPY       TIP  \n",
       "BWX  0.515559  0.636100  0.426230  0.669450  \n",
       "DBC  0.472511  0.505782  0.443971  0.128270  \n",
       "EEM  0.719246  0.817292  0.675299  0.418331  \n",
       "EFA  0.909642  0.893732  0.869679  0.452418  \n",
       "HYG  0.829210  0.837562  0.808391  0.600167  \n",
       "IEF  0.020811  0.111515 -0.018231  0.706036  \n",
       "IYR  0.729068  0.709725  0.769053  0.629646  \n",
       "PSP  1.000000  0.889855  0.909873  0.523832  \n",
       "QAI  0.889855  1.000000  0.878317  0.544926  \n",
       "SPY  0.909873  0.878317  1.000000  0.480188  \n",
       "TIP  0.523832  0.544926  0.480188  1.000000  "
      ]
     },
     "execution_count": 10,
     "metadata": {},
     "output_type": "execute_result"
    }
   ],
   "source": [
    "correlation_matrix = ex_ret.corr()\n",
    "correlation_matrix"
   ]
  },
  {
   "cell_type": "code",
   "execution_count": 11,
   "id": "f93458fe",
   "metadata": {},
   "outputs": [
    {
     "data": {
      "text/plain": [
       "('PSP', 'SPY')"
      ]
     },
     "execution_count": 11,
     "metadata": {},
     "output_type": "execute_result"
    }
   ],
   "source": [
    "# максимальне значення кореляції (не враховуючи діагональних значень)\n",
    "max_corr_per_tick = (correlation_matrix - np.eye(correlation_matrix.shape[0])).idxmax()\n",
    "corr_dict = {}\n",
    "for i,j in max_corr_per_tick.items():\n",
    "    corr_dict[(i,j)] = correlation_matrix.loc[i,j]\n",
    "    \n",
    "max_corr = max(corr_dict, key=corr_dict.get)\n",
    "max_corr"
   ]
  },
  {
   "cell_type": "code",
   "execution_count": 12,
   "id": "8003698a",
   "metadata": {},
   "outputs": [
    {
     "data": {
      "text/plain": [
       "('DBC', 'IEF')"
      ]
     },
     "execution_count": 12,
     "metadata": {},
     "output_type": "execute_result"
    }
   ],
   "source": [
    "# мінімальне значення кореляції\n",
    "min_corr_per_tick = correlation_matrix.idxmin()\n",
    "corr_dict = {}\n",
    "for i,j in min_corr_per_tick.items():\n",
    "    corr_dict[(i,j)] = correlation_matrix.loc[i,j]\n",
    "    \n",
    "min_corr = min(corr_dict, key=corr_dict.get)\n",
    "min_corr"
   ]
  },
  {
   "cell_type": "markdown",
   "id": "3b6a1f72",
   "metadata": {},
   "source": [
    "## 4. Наскільки добре спрацювали TIPS у нашій вибірці? Чи перевершили вони внутрішні облігації (IEF)? Іноземні облігації (foreign bonds)?"
   ]
  },
  {
   "cell_type": "code",
   "execution_count": 13,
   "id": "c0ed7479",
   "metadata": {},
   "outputs": [
    {
     "name": "stdout",
     "output_type": "stream",
     "text": [
      "Коефіцієнт Шарпа:\n",
      "  Ticks        SR\n",
      "2   HYG  0.076200\n",
      "4   TIP  0.069459\n",
      "6   IEF  0.021129\n",
      "\n",
      "Середня надлишкова прибутковість:\n",
      "HYG    0.001713\n",
      "TIP    0.001010\n",
      "IEF    0.000368\n",
      "dtype: float64\n"
     ]
    }
   ],
   "source": [
    "# TIPS, IEF, EFA (іноземна облігація для US)\n",
    "print(\"Коефіцієнт Шарпа:\")\n",
    "print(SR[SR[\"Ticks\"].isin([\"TIP\", \"IEF\", \"HYG\"])])\n",
    "\n",
    "print(\"\\nСередня надлишкова прибутковість:\")\n",
    "print(ex_ret_mean.loc[[\"TIP\", \"IEF\", \"HYG\"]].sort_values(ascending = False))"
   ]
  },
  {
   "cell_type": "markdown",
   "id": "54e07be3",
   "metadata": {},
   "source": [
    "TIP у нашій вибірці спрацювали краще, ніж внутрішні облігації, оскільки коефіцієнт Шарпа та середня надлишкова прибутковість є більшою ніж відповідні показники для IEF. \n",
    "\n",
    "Щодо іноземних облігацій HYG, то за обома параметрами вони спрацювали краще за TIPS та внутрішні облігації."
   ]
  },
  {
   "cell_type": "markdown",
   "id": "be84bef0",
   "metadata": {},
   "source": [
    "## 3. MV frontier. Обчислити та відобразити ваги дотичних портфелів (tangency portfolio), $w^t$."
   ]
  },
  {
   "cell_type": "markdown",
   "id": "27e77097",
   "metadata": {},
   "source": [
    "$$w^t = (\\frac{1}{1' \\Sigma^{-1} \\mu})\\Sigma^{-1} \\mu$$"
   ]
  },
  {
   "cell_type": "code",
   "execution_count": 14,
   "id": "5670fc2c",
   "metadata": {},
   "outputs": [],
   "source": [
    "mu = ret.drop(columns = [\"SHV\"]).mean().to_numpy()\n",
    "Sigma = ret.drop(columns = [\"SHV\"]).cov().to_numpy()\n",
    "Sigma_inv = np.linalg.inv(Sigma)\n",
    "\n",
    "w_t = (1/(np.ones((1, len(mu))).dot(Sigma_inv).dot(mu)))*Sigma_inv.dot(mu)"
   ]
  },
  {
   "cell_type": "code",
   "execution_count": 15,
   "id": "c3410a24",
   "metadata": {},
   "outputs": [
    {
     "data": {
      "text/plain": [
       "array([-1.95669017,  0.26597911,  0.78696616,  0.69155341,  0.70189907,\n",
       "        2.48835728, -0.51588526, -2.59235813, -4.84532409,  4.6650664 ,\n",
       "        1.31043623])"
      ]
     },
     "execution_count": 15,
     "metadata": {},
     "output_type": "execute_result"
    }
   ],
   "source": [
    "w_t"
   ]
  },
  {
   "cell_type": "markdown",
   "id": "f07caf89",
   "metadata": {},
   "source": [
    "## 4. Обчисліть очікуваний прибуток, волатильність і коефіцієнт Шарпа для дотичного портфеля, що відповідає $w^t$."
   ]
  },
  {
   "cell_type": "markdown",
   "id": "8cc5d1d7",
   "metadata": {},
   "source": [
    "Надлишкова прибутковість: $\\tilde{\\mu} = \\mu - 1r^f$\n",
    "\n",
    "Середній (очікуваний) прибуток: $\\mu^p = (1 - w'1)r^f + w'\\mu = r^f + w'\\tilde{\\mu}$\n",
    "\n",
    "Середня (очікувана) надлишкова прибутковість: $\\tilde{\\mu}^p = w'\\tilde{\\mu}$\n",
    "\n",
    "Волатильність: $\\sigma = \\frac{|\\tilde{\\mu}^p|}{\\sqrt{\\tilde{\\mu}'\\Sigma^{-1}\\tilde{\\mu}}}$\n",
    "\n",
    "Коефіцієнт Шарпа: $SR(w^*) = \\pm \\sqrt{\\tilde{\\mu}'\\Sigma^{-1}\\tilde{\\mu}}$"
   ]
  },
  {
   "cell_type": "code",
   "execution_count": 16,
   "id": "9e760b23",
   "metadata": {},
   "outputs": [
    {
     "name": "stdout",
     "output_type": "stream",
     "text": [
      "Очікуваний прибуток: 0.04879435704062398\n",
      "Очікувана надлишкова прибутковість: 0.0481610989260232\n",
      "Волатильність: 0.08540364409875581\n",
      "Коефіцієнт Шарпа: +0.08540364409875581 або -0.08540364409875581\n"
     ]
    }
   ],
   "source": [
    "mu = ret.drop(columns = [\"SHV\"]).mean().to_numpy()\n",
    "r_f = ret[\"SHV\"].mean()\n",
    "Sigma = ret.drop(columns = [\"SHV\"]).cov().to_numpy()\n",
    "Sigma_inv = np.linalg.inv(Sigma)\n",
    "\n",
    "# надлишкова прибутковість\n",
    "tilde_mu = mu - np.ones((len(mu)))*r_f\n",
    "\n",
    "# очікуваний прибуток\n",
    "mu_p = r_f + (w_t.T).dot(tilde_mu)\n",
    "print(\"Очікуваний прибуток: {}\".format(mu_p))\n",
    "\n",
    "# очікувана надлишкова прибутковість\n",
    "tilde_mu_p = (w_t.T).dot(tilde_mu)\n",
    "print(\"Очікувана надлишкова прибутковість: {}\".format(tilde_mu_p))\n",
    "\n",
    "# волатильність\n",
    "vol = np.abs(tilde_mu_p)/np.sqrt((tilde_mu.T).dot(Sigma_inv).dot(tilde_mu))\n",
    "print(\"Волатильність: {}\".format(vol))\n",
    "\n",
    "# коефіцієнт  Шарпа\n",
    "SR = np.sqrt((tilde_mu.T).dot(Sigma_inv).dot(tilde_mu))\n",
    "print(\"Коефіцієнт Шарпа: +{} або -{}\".format(vol, vol))"
   ]
  },
  {
   "cell_type": "markdown",
   "id": "b0aff08a",
   "metadata": {},
   "source": [
    "## 5. Обчислити та відобразити ваги портфелів MV із цільовою прибутковістю $\\mu^p = 0.015$. Порахувати очікуваний прибуток, волатильність і коефіцієнт Шарпа для $w^p$."
   ]
  },
  {
   "cell_type": "markdown",
   "id": "0f75828d",
   "metadata": {},
   "source": [
    "Ваги портфелів MV: $w^p = \\delta w^t + (1 - \\delta) w^v$, де $w^t = (\\frac{1}{1' \\Sigma^{-1} \\mu})\\Sigma^{-1} \\mu$, і $w^v = (\\frac{1}{1' \\Sigma^{-1} 1})\\Sigma^{-1} 1$\n",
    "\n",
    "Цільова прибутковість: $0.015 = (w^p)'\\mu$, і звідси:\n",
    "$$0.015 = (w^p)'\\mu, \\quad 0.015 = (\\delta w^t + (1 - \\delta) w^v))'\\mu = (\\delta (w^t)' + (1 - \\delta) (w^v)')\\mu = \\delta ((w^t)' - (w^v)')\\mu + (w^v)'\\mu, \\quad \\delta = \\frac{0.015 - (w^v)'\\mu}{((w^t)' - (w^v)')\\mu}$$\n",
    "\n",
    "Середній (очікуваний) прибуток: $\\mu^p = (w^p)'\\mu$\n",
    "\n",
    "Волатильність: $\\sigma^p = \\sqrt{(w^p)'\\Sigma w^p}$\n",
    "\n",
    "Коефіцієнт Шарпа: $SR(w^p) = \\frac{\\mu^p - r^f}{\\sigma^p}$"
   ]
  },
  {
   "cell_type": "code",
   "execution_count": 17,
   "id": "b77f8b25",
   "metadata": {},
   "outputs": [
    {
     "data": {
      "text/plain": [
       "array([-0.68940733,  0.07784753,  0.17895328,  0.21817589,  0.21979007,\n",
       "        0.71795034, -0.18887273, -0.87270503, -0.66185135,  1.34988979,\n",
       "        0.65022954])"
      ]
     },
     "execution_count": 17,
     "metadata": {},
     "output_type": "execute_result"
    }
   ],
   "source": [
    "mu = ret.drop(columns = [\"SHV\"]).mean()\n",
    "r_f = ret[\"SHV\"].mean()\n",
    "Sigma = ret.drop(columns = [\"SHV\"]).cov()\n",
    "Sigma_inv = np.linalg.inv(Sigma)\n",
    "\n",
    "# ваги w^p\n",
    "ones = np.ones((len(mu), 1))\n",
    "w_t = ((1/(ones.T).dot(Sigma_inv).dot(mu))*Sigma_inv.dot(mu)).flatten()\n",
    "w_v = ((1/(ones.T).dot(Sigma_inv).dot(ones))*Sigma_inv.dot(ones)).flatten()\n",
    "delta = (0.015 - (w_v.T).dot(mu))/(w_t.T - w_v.T).dot(mu)\n",
    "\n",
    "w_p = delta*w_t + (1 - delta)*w_v\n",
    "w_p"
   ]
  },
  {
   "cell_type": "code",
   "execution_count": 18,
   "id": "6c39feb1",
   "metadata": {},
   "outputs": [
    {
     "name": "stdout",
     "output_type": "stream",
     "text": [
      "Очікуваний прибуток: 0.014999999999999998 - збігається з цільовою прибутковістю\n",
      "Волатильність: 0.027033631837932847\n",
      "Коефіцієнт Шарпа: 0.5314395776168039\n"
     ]
    }
   ],
   "source": [
    "# очікуваний прибуток\n",
    "mu_p = (w_p.T).dot(mu)\n",
    "print(\"Очікуваний прибуток: {} - збігається з цільовою прибутковістю\". format(mu_p))\n",
    "\n",
    "# волатильність\n",
    "sigma_p = np.sqrt((w_p.T).dot(Sigma).dot(w_p))\n",
    "print(\"Волатильність: {}\".format(sigma_p))\n",
    "\n",
    "# коефіцієнт Шарпа\n",
    "SR = (mu_p - r_f)/sigma_p\n",
    "print(\"Коефіцієнт Шарпа: {}\".format(SR))"
   ]
  },
  {
   "cell_type": "markdown",
   "id": "4c83c4fa",
   "metadata": {},
   "source": [
    "## 6. Обчисліть прибуток рівнозваженого портфеля за вибіркою. Перерахуйте вектор ваг для очікуваного прибутку $μ^p = 0.015$. Обчисліть його середнє значення, волатильність і Коефіцієнт Шарпа."
   ]
  },
  {
   "cell_type": "code",
   "execution_count": 19,
   "id": "b68698a8",
   "metadata": {},
   "outputs": [],
   "source": [
    "mu = ret.drop(columns = [\"SHV\"]).mean()\n",
    "r_f = ret[\"SHV\"].mean()\n",
    "Sigma = ret.drop(columns = [\"SHV\"]).cov()\n",
    "Sigma_inv = np.linalg.inv(Sigma)"
   ]
  },
  {
   "cell_type": "code",
   "execution_count": 20,
   "id": "a4fc00b1",
   "metadata": {},
   "outputs": [
    {
     "data": {
      "text/plain": [
       "array([0.09090909, 0.09090909, 0.09090909, 0.09090909, 0.09090909,\n",
       "       0.09090909, 0.09090909, 0.09090909, 0.09090909, 0.09090909,\n",
       "       0.09090909])"
      ]
     },
     "execution_count": 20,
     "metadata": {},
     "output_type": "execute_result"
    }
   ],
   "source": [
    "# ваги рівноваженого портфеля до перерахунку\n",
    "w = np.full(len(mu), 1/len(mu))\n",
    "w"
   ]
  },
  {
   "cell_type": "markdown",
   "id": "982c5050",
   "metadata": {},
   "source": [
    "$0.015 = (w^p)'\\mu$, де $w^p = cw$, де $c$ - число, а $w$ - вектор ваг рівнозваженого портфеля"
   ]
  },
  {
   "cell_type": "code",
   "execution_count": 21,
   "id": "e5867770",
   "metadata": {},
   "outputs": [
    {
     "data": {
      "text/plain": [
       "array([0.50017569, 0.50017569, 0.50017569, 0.50017569, 0.50017569,\n",
       "       0.50017569, 0.50017569, 0.50017569, 0.50017569, 0.50017569,\n",
       "       0.50017569])"
      ]
     },
     "execution_count": 21,
     "metadata": {},
     "output_type": "execute_result"
    }
   ],
   "source": [
    "# ваги після перерахунку\n",
    "c = 0.015/(w.T).dot(mu)\n",
    "w_p = c*w\n",
    "w_p"
   ]
  },
  {
   "cell_type": "code",
   "execution_count": 22,
   "id": "a156addf",
   "metadata": {},
   "outputs": [
    {
     "name": "stdout",
     "output_type": "stream",
     "text": [
      "Очікуваний прибуток: 0.015 - збігається з цільовою прибутковістю\n",
      "Волатильність: 0.15532326903624316\n",
      "Коефіцієнт Шарпа: 0.09249574757563775\n"
     ]
    }
   ],
   "source": [
    "# очікуваний прибуток\n",
    "mu_p = (w_p.T).dot(mu)\n",
    "print(\"Очікуваний прибуток: {} - збігається з цільовою прибутковістю\". format(mu_p))\n",
    "\n",
    "# волатильність\n",
    "sigma_p = np.sqrt((w_p.T).dot(Sigma).dot(w_p))\n",
    "print(\"Волатильність: {}\".format(sigma_p))\n",
    "\n",
    "# коефіцієнт Шарпа\n",
    "SR = (mu_p - r_f)/sigma_p\n",
    "print(\"Коефіцієнт Шарпа: {}\".format(SR))"
   ]
  },
  {
   "cell_type": "markdown",
   "id": "0ba51438",
   "metadata": {},
   "source": [
    "## 7. Обчисліть прибуток портфеля «паритету ризику». Паритет ризику – це портфель з вагами активів, пропорційних до волатильності повної вибірки: $w^i = \\frac{1}{\\sigma i}$. Це дасть $\\sigma 𝑖$ вектор ваг, $w$. Змінити масштаб, щоб отримати очікуване значення прибутку $\\mu^p = 0.015$. Порівняйте з портфелем з п.5."
   ]
  },
  {
   "cell_type": "code",
   "execution_count": 23,
   "id": "d3d998d6",
   "metadata": {},
   "outputs": [],
   "source": [
    "mu = ret.drop(columns = [\"SHV\"]).mean()\n",
    "r_f = ret[\"SHV\"].mean()\n",
    "sigma = ret.drop(columns = [\"SHV\"]).std()\n",
    "Sigma = ret.drop(columns = [\"SHV\"]).cov()\n",
    "Sigma_inv = np.linalg.inv(Sigma)"
   ]
  },
  {
   "cell_type": "code",
   "execution_count": 24,
   "id": "0657380c",
   "metadata": {},
   "outputs": [
    {
     "data": {
      "text/plain": [
       "array([0.1071303 , 0.04781325, 0.05009377, 0.05729094, 0.11067668,\n",
       "       0.14277156, 0.05134892, 0.03943166, 0.16577701, 0.05661814,\n",
       "       0.17104777])"
      ]
     },
     "execution_count": 24,
     "metadata": {},
     "output_type": "execute_result"
    }
   ],
   "source": [
    "# портфель паритету ризику\n",
    "w = 1/sigma.to_numpy()\n",
    "w = w/np.sum(w)\n",
    "w"
   ]
  },
  {
   "cell_type": "markdown",
   "id": "78d8699b",
   "metadata": {},
   "source": [
    "$0.015 = (w^p)'\\mu$, де $w^p = cw$, де $c$ - число, а $w$ - вектор ваг портфеля паритету ризику"
   ]
  },
  {
   "cell_type": "code",
   "execution_count": 25,
   "id": "aa6bce9e",
   "metadata": {},
   "outputs": [
    {
     "data": {
      "text/plain": [
       "array([0.78556192, 0.35060362, 0.36732613, 0.42010134, 0.81156668,\n",
       "       1.04691111, 0.37652984, 0.28914329, 1.21560482, 0.41516781,\n",
       "       1.25425407])"
      ]
     },
     "execution_count": 25,
     "metadata": {},
     "output_type": "execute_result"
    }
   ],
   "source": [
    "# ваги після перерахунку\n",
    "c = 0.015/(w.T).dot(mu)\n",
    "w_p = c*w\n",
    "w_p"
   ]
  },
  {
   "cell_type": "code",
   "execution_count": 26,
   "id": "b5936111",
   "metadata": {},
   "outputs": [
    {
     "name": "stdout",
     "output_type": "stream",
     "text": [
      "Очікуваний прибуток: 0.015 - збігається з цільовою прибутковістю\n",
      "Волатильність: 0.15263748332001045\n",
      "Коефіцієнт Шарпа: 0.09412328854557162\n"
     ]
    }
   ],
   "source": [
    "# очікуваний прибуток\n",
    "mu_p = (w_p.T).dot(mu)\n",
    "print(\"Очікуваний прибуток: {} - збігається з цільовою прибутковістю\". format(mu_p))\n",
    "\n",
    "# волатильність\n",
    "sigma_p = np.sqrt((w_p.T).dot(Sigma).dot(w_p))\n",
    "print(\"Волатильність: {}\".format(sigma_p))\n",
    "\n",
    "# коефіцієнт Шарпа\n",
    "SR = (mu_p - r_f)/sigma_p\n",
    "print(\"Коефіцієнт Шарпа: {}\".format(SR))"
   ]
  },
  {
   "cell_type": "markdown",
   "id": "a1c87687",
   "metadata": {},
   "source": [
    "Порівняно з портфелем з п.5 коефіцієнт Шарпа значно зменшився, що можна пояснити тим, що волатильність портфеля після перерахування ваг зросла."
   ]
  },
  {
   "cell_type": "markdown",
   "id": "fc95f1b3",
   "metadata": {},
   "source": [
    "## 8. Оцініть, наскільки зміниться коефіцієнт Шарпа, якщо ми виключимо TIPS з інвестиційного набору (потрфель з 10 активів.) Подивіться, наскільки це змінює очікуваний прибуток та волатильність в умовах задачі 5."
   ]
  },
  {
   "cell_type": "markdown",
   "id": "0dce882c",
   "metadata": {},
   "source": [
    "Ваги портфелів MV: $w^p = \\delta w^t + (1 - \\delta) w^v$, де $w^t = (\\frac{1}{1' \\Sigma^{-1} \\mu})\\Sigma^{-1} \\mu$, і $w^v = (\\frac{1}{1' \\Sigma^{-1} 1})\\Sigma^{-1} 1$\n",
    "\n",
    "Цільова прибутковість: $0.015 = (w^p)'\\mu$, і звідси:\n",
    "$$0.015 = (w^p)'\\mu, \\quad 0.015 = (\\delta w^t + (1 - \\delta) w^v))'\\mu = (\\delta (w^t)' + (1 - \\delta) (w^v)')\\mu = \\delta ((w^t)' - (w^v)')\\mu + (w^v)'\\mu, \\quad \\delta = \\frac{0.015 - (w^v)'\\mu}{((w^t)' - (w^v)')\\mu}$$\n",
    "\n",
    "Середній (очікуваний) прибуток: $\\mu^p = (w^p)'\\mu$\n",
    "\n",
    "Волатильність: $\\sigma^p = \\sqrt{(w^p)'\\Sigma w^p}$\n",
    "\n",
    "Коефіцієнт Шарпа: $SR(w^p) = \\frac{\\mu^p - r^f}{\\sigma^p}$"
   ]
  },
  {
   "cell_type": "code",
   "execution_count": 27,
   "id": "5b23acb4",
   "metadata": {},
   "outputs": [
    {
     "data": {
      "text/plain": [
       "array([-0.70144909,  0.12019561,  0.18396976,  0.15151482,  0.29404287,\n",
       "        1.15399307, -0.16533904, -0.84596973, -0.576196  ,  1.38523773])"
      ]
     },
     "execution_count": 27,
     "metadata": {},
     "output_type": "execute_result"
    }
   ],
   "source": [
    "mu = ret.drop(columns = [\"SHV\", \"TIP\"]).mean()\n",
    "r_f = ret[\"SHV\"].mean()\n",
    "Sigma = ret.drop(columns = [\"SHV\", \"TIP\"]).cov()\n",
    "Sigma_inv = np.linalg.inv(Sigma)\n",
    "\n",
    "# ваги w^p\n",
    "ones = np.ones((len(mu), 1))\n",
    "w_t = ((1/(ones.T).dot(Sigma_inv).dot(mu))*Sigma_inv.dot(mu)).flatten()\n",
    "w_v = ((1/(ones.T).dot(Sigma_inv).dot(ones))*Sigma_inv.dot(ones)).flatten()\n",
    "delta = (0.015 - (w_v.T).dot(mu))/(w_t.T - w_v.T).dot(mu)\n",
    "\n",
    "w_p = delta*w_t + (1 - delta)*w_v\n",
    "w_p"
   ]
  },
  {
   "cell_type": "code",
   "execution_count": 28,
   "id": "e157abe8",
   "metadata": {},
   "outputs": [
    {
     "name": "stdout",
     "output_type": "stream",
     "text": [
      "Очікуваний прибуток: 0.015000000000000003\n",
      "Волатильність: 0.027356560862687552\n",
      "Коефіцієнт Шарпа: 0.5251662282225855\n"
     ]
    }
   ],
   "source": [
    "# очікуваний прибуток\n",
    "mu_p = (w_p.T).dot(mu)\n",
    "print(\"Очікуваний прибуток: {}\". format(mu_p))\n",
    "\n",
    "# волатильність\n",
    "sigma_p = np.sqrt((w_p.T).dot(Sigma).dot(w_p))\n",
    "print(\"Волатильність: {}\".format(sigma_p))\n",
    "\n",
    "# коефіцієнт Шарпа\n",
    "SR = (mu_p - r_f)/sigma_p\n",
    "print(\"Коефіцієнт Шарпа: {}\".format(SR))"
   ]
  },
  {
   "cell_type": "markdown",
   "id": "608364a3",
   "metadata": {},
   "source": [
    "Після вилучення TIPS з портфелю показники майже не змінилися."
   ]
  },
  {
   "cell_type": "markdown",
   "id": "329f5a1b",
   "metadata": {},
   "source": [
    "## 9. Давайте розділимо вибірку, щоб обчислити портфель і потім перевірити його ефективність на іншій частині вибірки. Використовуючи лише дані до кінця 2021 року, обчисліть $w^p$ для $\\mu^p = 0.015$, беручи до уваги всі 11 активів. Використовуючи ці вагові коефіцієнти, обчисліть коефіцієнт Шарпа портфеля у вибірці до кінця 2021 року. Знову використовуючи ці ваги (отримані з використанням даних до 2021 року) обчисліть коефіцієнт Шарпа портфеля на основі показників у 2022 році."
   ]
  },
  {
   "cell_type": "markdown",
   "id": "cb6ecab1",
   "metadata": {},
   "source": [
    "Дані до 2021 року"
   ]
  },
  {
   "cell_type": "code",
   "execution_count": 29,
   "id": "7f0af5ab",
   "metadata": {},
   "outputs": [
    {
     "data": {
      "text/plain": [
       "array([-0.3120649 ,  0.03689675,  0.09549595, -0.03479342,  0.29274065,\n",
       "        0.89746084, -0.23065404, -0.41725661, -1.25402805,  1.28814808,\n",
       "        0.63805475])"
      ]
     },
     "execution_count": 29,
     "metadata": {},
     "output_type": "execute_result"
    }
   ],
   "source": [
    "ret_2021 = ret.loc[:\"2021-12-31\"]\n",
    "\n",
    "mu = ret_2021.drop(columns = [\"SHV\"]).mean()\n",
    "r_f = ret_2021[\"SHV\"].mean()\n",
    "Sigma = ret_2021.drop(columns = [\"SHV\"]).cov()\n",
    "Sigma_inv = np.linalg.inv(Sigma)\n",
    "\n",
    "# ваги w^p\n",
    "ones = np.ones((len(mu), 1))\n",
    "w_t = ((1/(ones.T).dot(Sigma_inv).dot(mu))*Sigma_inv.dot(mu)).flatten()\n",
    "w_v = ((1/(ones.T).dot(Sigma_inv).dot(ones))*Sigma_inv.dot(ones)).flatten()\n",
    "delta = (0.015 - (w_v.T).dot(mu))/(w_t.T - w_v.T).dot(mu)\n",
    "\n",
    "w_p = delta*w_t + (1 - delta)*w_v\n",
    "w_p"
   ]
  },
  {
   "cell_type": "code",
   "execution_count": 30,
   "id": "c6dcd3a4",
   "metadata": {},
   "outputs": [
    {
     "name": "stdout",
     "output_type": "stream",
     "text": [
      "Коефіцієнт Шарпа: 0.6281190609401596\n"
     ]
    }
   ],
   "source": [
    "# коефіцієнт Шарпа\n",
    "SR = ((w_p.T).dot(mu) - r_f)/np.sqrt((w_p.T).dot(Sigma).dot(w_p))\n",
    "print(\"Коефіцієнт Шарпа: {}\".format(SR))"
   ]
  },
  {
   "cell_type": "markdown",
   "id": "4f6989b3",
   "metadata": {},
   "source": [
    "Дані 2022 року"
   ]
  },
  {
   "cell_type": "code",
   "execution_count": 31,
   "id": "2e87476d",
   "metadata": {},
   "outputs": [
    {
     "name": "stdout",
     "output_type": "stream",
     "text": [
      "Коефіцієнт Шарпа: -0.14680238986220753\n"
     ]
    }
   ],
   "source": [
    "# 2022\n",
    "ret_2022 = ret.loc[\"2022-01-01\":\"2022-12-31\"]\n",
    "\n",
    "mu = ret_2022.drop(columns = [\"SHV\"]).mean()\n",
    "r_f = ret_2022[\"SHV\"].mean()\n",
    "Sigma = ret_2022.drop(columns = [\"SHV\"]).cov()\n",
    "Sigma_inv = np.linalg.inv(Sigma)\n",
    "\n",
    "# коефіцієнт Шарпа\n",
    "SR = ((w_p.T).dot(mu) - r_f)/np.sqrt((w_p.T).dot(Sigma).dot(w_p))\n",
    "print(\"Коефіцієнт Шарпа: {}\".format(SR))"
   ]
  },
  {
   "cell_type": "markdown",
   "id": "e4e3d3d6",
   "metadata": {},
   "source": [
    "Як бачимо, якщо використовувати той самий вектор ваг для іншої вибірки, то значення коефіцієнт Шарпа зміниться. У нашому випадку коефіцієнт від'ємний, що означає, що якби ми вклались у безризикові активи, то заробили б більше."
   ]
  },
  {
   "cell_type": "markdown",
   "id": "c3d2ff5f",
   "metadata": {},
   "source": [
    "## 10. Повторно зробіть аналіз для надлишкової прибутковості (excess return). Для цього відніміть SHV від кожного загального доходу, щоб сформувати надлишковий прибуток, $\\tilde{r}$."
   ]
  },
  {
   "cell_type": "code",
   "execution_count": 32,
   "id": "cb8d9ee6",
   "metadata": {},
   "outputs": [],
   "source": [
    "# зроблено у пункті 1"
   ]
  },
  {
   "cell_type": "markdown",
   "id": "91ce4657",
   "metadata": {},
   "source": [
    "## 11. Розгляньте портфель з двома активами: внутрішніми облігаціями (IEF) та захищеними облігаціями (TIP). Обчислити $w^p$ для $\\tilde{\\mu^p} = 0.135$. Зробіть коригування $\\tilde{\\mu}^{TIP}$ на $-0.0015$ (зверніть увагу на знак). Повторно обчисліть $w^p$ для $\\tilde{\\mu^p} = 0.135$ для цих двох активів. Як змінюється розподіл між двома активами? Що це говорить про статистичну точність рішень MV?"
   ]
  },
  {
   "cell_type": "markdown",
   "id": "d5dedab8",
   "metadata": {},
   "source": [
    "До коригування"
   ]
  },
  {
   "cell_type": "code",
   "execution_count": 33,
   "id": "388adea4",
   "metadata": {},
   "outputs": [
    {
     "data": {
      "text/plain": [
       "array([ 209.64955064, -208.64955064])"
      ]
     },
     "execution_count": 33,
     "metadata": {},
     "output_type": "execute_result"
    }
   ],
   "source": [
    "tilde_mu = ex_ret.loc[:, [\"TIP\", \"IEF\"]].mean()\n",
    "Sigma = ret.loc[:, [\"TIP\", \"IEF\"]].cov()\n",
    "Sigma_inv = np.linalg.inv(Sigma)\n",
    "\n",
    "# ваги w^p\n",
    "ones = np.ones((len(tilde_mu), 1))\n",
    "w_t = ((1/(ones.T).dot(Sigma_inv).dot(tilde_mu))*Sigma_inv.dot(tilde_mu)).flatten()\n",
    "w_v = ((1/(ones.T).dot(Sigma_inv).dot(ones))*Sigma_inv.dot(ones)).flatten()\n",
    "delta = (0.135 - (w_v.T).dot(tilde_mu))/(w_t.T - w_v.T).dot(tilde_mu)\n",
    "\n",
    "w_p = delta*w_t + (1 - delta)*w_v\n",
    "w_p"
   ]
  },
  {
   "cell_type": "markdown",
   "id": "86afa4ad",
   "metadata": {},
   "source": [
    "З коригуванням"
   ]
  },
  {
   "cell_type": "code",
   "execution_count": 34,
   "id": "12363266",
   "metadata": {},
   "outputs": [
    {
     "data": {
      "text/plain": [
       "array([-156.94556672,  157.94556672])"
      ]
     },
     "execution_count": 34,
     "metadata": {},
     "output_type": "execute_result"
    }
   ],
   "source": [
    "tilde_mu = ex_ret.loc[:, [\"TIP\", \"IEF\"]].mean()\n",
    "tilde_mu[\"TIP\"] -= 0.0015\n",
    "Sigma = ret.loc[:, [\"TIP\", \"IEF\"]].cov()\n",
    "Sigma_inv = np.linalg.inv(Sigma)\n",
    "\n",
    "# ваги w^p\n",
    "ones = np.ones((len(tilde_mu), 1))\n",
    "w_t = ((1/(ones.T).dot(Sigma_inv).dot(tilde_mu))*Sigma_inv.dot(tilde_mu)).flatten()\n",
    "w_v = ((1/(ones.T).dot(Sigma_inv).dot(ones))*Sigma_inv.dot(ones)).flatten()\n",
    "delta = (0.135 - (w_v.T).dot(tilde_mu))/(w_t.T - w_v.T).dot(tilde_mu)\n",
    "\n",
    "w_p = delta*w_t + (1 - delta)*w_v\n",
    "w_p"
   ]
  },
  {
   "cell_type": "markdown",
   "id": "5b97e1ce",
   "metadata": {},
   "source": [
    "Коефіцієнти в обох випадках мають велике значення за модулем. Після коригування портфель змінюється на протилежний: якщо у першому випадку в портфелі потрібна велика частка TIPS, то у другому випадку - велика частка IEF. Для задачі MV з малою кількістю асетів навіть незначні зміни в середній прибутковості впли вають на результат."
   ]
  },
  {
   "cell_type": "markdown",
   "id": "ee435af5",
   "metadata": {},
   "source": [
    "## 12. Проітеруйте задачу 9 для кожного року, не лише 2022, а саме:\n",
    "### • Почніть з кінця 2014 року та обчисліть ваги MV протягом цього часу. Застосуйте їх до обчислення прибутку в наступному році (2015р.)\n",
    "### • Перейдіть на рік вперед у часі та перерахуйте.\n",
    "### • Так продовжуйте аж до 2021 року (із застосування ваг доданих у 2022 році).\n",
    "### Порахувати очікуваний прибуток, волатильність і коефіцієнт Шарпа на основі цього динамічного підходу MV. Порівняйте їх з динамічною версією\n",
    "### - рівнозваженого портфеля\n",
    "### - портфеля «паритету ризику»."
   ]
  },
  {
   "cell_type": "code",
   "execution_count": 35,
   "id": "11a526ad",
   "metadata": {},
   "outputs": [],
   "source": [
    "start_dates = [\"2015-01-01\", \"2016-01-01\", \"2017-01-01\", \"2018-01-01\", \"2019-01-01\", \"2020-01-01\", \"2021-01-01\", \"2022-01-01\"]\n",
    "end_dates = [\"2015-12-31\", \"2016-12-31\", \"2017-12-31\", \"2018-12-31\", \"2019-12-31\", \"2020-12-31\", \"2021-12-31\", \"2022-12-31\"]"
   ]
  },
  {
   "cell_type": "code",
   "execution_count": 36,
   "id": "c30055e2",
   "metadata": {},
   "outputs": [],
   "source": [
    "def data_collection(w_p, init_SR, init_vol):\n",
    "    sharpe_ratio = [init_SR]\n",
    "    vol = [init_vol]\n",
    "    for start,end in zip(start_dates,end_dates):\n",
    "        local_ret = ret.loc[start:end]\n",
    "    \n",
    "        mu = local_ret.drop(columns = [\"SHV\"]).mean()\n",
    "        r_f = local_ret[\"SHV\"].mean()\n",
    "        Sigma = local_ret.drop(columns = [\"SHV\"]).cov()\n",
    "        Sigma_inv = np.linalg.inv(Sigma)\n",
    "    \n",
    "        # ваги після перерахунку\n",
    "        c = 0.015/(w_p.T).dot(mu)\n",
    "        w_p = c*w_p\n",
    "    \n",
    "        vol.append(np.sqrt((w_p.T).dot(Sigma).dot(w_p)))\n",
    "        sharpe_ratio.append(((w_p.T).dot(mu) - r_f)/np.sqrt((w_p.T).dot(Sigma).dot(w_p)))\n",
    "    return sharpe_ratio, vol"
   ]
  },
  {
   "cell_type": "markdown",
   "id": "937177c0",
   "metadata": {},
   "source": [
    "Звичайна динаміка"
   ]
  },
  {
   "cell_type": "code",
   "execution_count": 37,
   "id": "a35010de",
   "metadata": {},
   "outputs": [],
   "source": [
    "#починаємо з 2014\n",
    "local_ret = ret.loc[\"2014-01-01\":\"2014-12-31\"]\n",
    "    \n",
    "mu = local_ret.drop(columns = [\"SHV\"]).mean()\n",
    "r_f = local_ret[\"SHV\"].mean()\n",
    "Sigma = local_ret.drop(columns = [\"SHV\"]).cov()\n",
    "Sigma_inv = np.linalg.inv(Sigma)\n",
    "    \n",
    "# ваги w^p для 2014 року\n",
    "ones = np.ones((len(mu), 1))\n",
    "w_t = ((1/(ones.T).dot(Sigma_inv).dot(mu))*Sigma_inv.dot(mu)).flatten()\n",
    "w_v = ((1/(ones.T).dot(Sigma_inv).dot(ones))*Sigma_inv.dot(ones)).flatten()\n",
    "delta = (0.015 - (w_v.T).dot(mu))/(w_t.T - w_v.T).dot(mu)\n",
    "\n",
    "w_p = delta*w_t + (1 - delta)*w_v\n",
    "\n",
    "# зберігаємо коефіцієнти шарпа та волатильність\n",
    "init_SR = ((w_p.T).dot(mu) - r_f)/np.sqrt((w_p.T).dot(Sigma).dot(w_p))\n",
    "init_vol = np.sqrt((w_p.T).dot(Sigma).dot(w_p))\n",
    "\n",
    "sharpe_ratio1, vol1 = data_collection(w_p, init_SR, init_vol)"
   ]
  },
  {
   "cell_type": "markdown",
   "id": "bc9a8dd2",
   "metadata": {},
   "source": [
    "Динаміка для рівнозваженого портфеля"
   ]
  },
  {
   "cell_type": "code",
   "execution_count": 38,
   "id": "afa79e9f",
   "metadata": {},
   "outputs": [],
   "source": [
    "#починаємо з 2014\n",
    "local_ret = ret.loc[\"2014-01-01\":\"2014-12-31\"]\n",
    "    \n",
    "mu = local_ret.drop(columns = [\"SHV\"]).mean()\n",
    "r_f = local_ret[\"SHV\"].mean()\n",
    "Sigma = local_ret.drop(columns = [\"SHV\"]).cov()\n",
    "Sigma_inv = np.linalg.inv(Sigma)\n",
    "    \n",
    "# ваги w^p для 2014 року\n",
    "w_p = np.full(len(mu), 1/len(mu))\n",
    "\n",
    "# зберігаємо коефіцієнти шарпа та волатильність\n",
    "init_SR = ((w_p.T).dot(mu) - r_f)/np.sqrt((w_p.T).dot(Sigma).dot(w_p))\n",
    "init_vol = np.sqrt((w_p.T).dot(Sigma).dot(w_p))\n",
    "\n",
    "sharpe_ratio2, vol2 = data_collection(w_p, init_SR, init_vol)"
   ]
  },
  {
   "cell_type": "markdown",
   "id": "32872e3c",
   "metadata": {},
   "source": [
    "Динаміка для портфелю \"паритету ризику\""
   ]
  },
  {
   "cell_type": "code",
   "execution_count": 39,
   "id": "caab8dd9",
   "metadata": {},
   "outputs": [],
   "source": [
    "#починаємо з 2014\n",
    "local_ret = ret.loc[\"2014-01-01\":\"2014-12-31\"]\n",
    "    \n",
    "mu = local_ret.drop(columns = [\"SHV\"]).mean()\n",
    "r_f = local_ret[\"SHV\"].mean()\n",
    "sigma = ret.drop(columns = [\"SHV\"]).std()\n",
    "Sigma = local_ret.drop(columns = [\"SHV\"]).cov()\n",
    "Sigma_inv = np.linalg.inv(Sigma)\n",
    "    \n",
    "# ваги w^p для 2014 року\n",
    "w_p = 1/sigma.to_numpy()\n",
    "w_p = w_p/np.sum(w_p)\n",
    "\n",
    "# зберігаємо коефіцієнти шарпа та волатильність\n",
    "init_SR = ((w_p.T).dot(mu) - r_f)/np.sqrt((w_p.T).dot(Sigma).dot(w_p))\n",
    "init_vol = np.sqrt((w_p.T).dot(Sigma).dot(w_p))\n",
    "\n",
    "sharpe_ratio3, vol3 = data_collection(w_p, init_SR, init_vol)"
   ]
  },
  {
   "cell_type": "markdown",
   "id": "ef19aaf7",
   "metadata": {},
   "source": [
    "Порівняння"
   ]
  },
  {
   "cell_type": "code",
   "execution_count": 40,
   "id": "4653e014",
   "metadata": {},
   "outputs": [
    {
     "data": {
      "image/png": "[encoded data removed]",
      "text/plain": [
       "<Figure size 640x480 with 1 Axes>"
      ]
     },
     "metadata": {},
     "output_type": "display_data"
    }
   ],
   "source": [
    "plt.plot(range(2014,2023,1), sharpe_ratio1, label = \"Портфель зі звичайними вагами\")\n",
    "plt.plot(range(2014,2023,1), sharpe_ratio2, label = \"Рівнозважений портфель\")\n",
    "plt.plot(range(2014,2023,1), sharpe_ratio3, label = \"Портфель паритету ризику\")\n",
    "plt.title(\"Коефіцієнт Шарпа\")\n",
    "plt.legend()\n",
    "plt.show()"
   ]
  },
  {
   "cell_type": "code",
   "execution_count": 41,
   "id": "60ac50d3",
   "metadata": {},
   "outputs": [
    {
     "data": {
      "image/png": "[encoded data removed]",
      "text/plain": [
       "<Figure size 640x480 with 1 Axes>"
      ]
     },
     "metadata": {},
     "output_type": "display_data"
    }
   ],
   "source": [
    "plt.plot(range(2014,2023,1), vol1, label = \"Портфель зі звичайними вагами\")\n",
    "plt.plot(range(2014,2023,1), vol2, label = \"Рівнозважений портфель\")\n",
    "plt.plot(range(2014,2023,1), vol3, label = \"Портфель паритету ризику\")\n",
    "plt.title(\"Волатильність\")\n",
    "plt.legend()\n",
    "plt.show()"
   ]
  },
  {
   "cell_type": "code",
   "execution_count": null,
   "id": "14654393",
   "metadata": {},
   "outputs": [],
   "source": []
  }
 ],
 "metadata": {
  "kernelspec": {
   "display_name": "Python 3 (ipykernel)",
   "language": "python",
   "name": "python3"
  },
  "language_info": {
   "codemirror_mode": {
    "name": "ipython",
    "version": 3
   },
   "file_extension": ".py",
   "mimetype": "text/x-python",
   "name": "python",
   "nbconvert_exporter": "python",
   "pygments_lexer": "ipython3",
   "version": "3.11.1"
  }
 },
 "nbformat": 4,
 "nbformat_minor": 5
}
